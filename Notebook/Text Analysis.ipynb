{
 "cells": [
  {
   "cell_type": "code",
   "execution_count": 1,
   "metadata": {},
   "outputs": [],
   "source": [
    "from pymongo import MongoClient\n",
    "from pprint import pprint\n",
    "from sklearn.feature_extraction.text import TfidfVectorizer, CountVectorizer\n",
    "from sklearn.decomposition import NMF, LatentDirichletAllocation"
   ]
  },
  {
   "cell_type": "code",
   "execution_count": 36,
   "metadata": {},
   "outputs": [],
   "source": [
    "import re\n",
    "from nltk.stem.porter import PorterStemmer"
   ]
  },
  {
   "cell_type": "markdown",
   "metadata": {},
   "source": [
    "<h3>MongoDB Connection</h3>"
   ]
  },
  {
   "cell_type": "code",
   "execution_count": 2,
   "metadata": {},
   "outputs": [],
   "source": [
    "def getDBConnection():\n",
    "    client = MongoClient(\"localhost:27017\")\n",
    "    db=client.articles\n",
    "    return db"
   ]
  },
  {
   "cell_type": "code",
   "execution_count": 3,
   "metadata": {},
   "outputs": [],
   "source": [
    "db=getDBConnection()\n",
    "articles=db.Articles\n",
    "row=articles.find_one()"
   ]
  },
  {
   "cell_type": "markdown",
   "metadata": {},
   "source": [
    "<h3>Okay Just Print First Record<h3>"
   ]
  },
  {
   "cell_type": "code",
   "execution_count": 4,
   "metadata": {},
   "outputs": [
    {
     "name": "stdout",
     "output_type": "stream",
     "text": [
      "{'_id': ObjectId('5c2a2e6b986d090428970616'),\n",
      " 'author': 'newsfeedback@fool.com (Sean Williams)',\n",
      " 'content': 'The marijuana industry has had an absolutely game-changing year '\n",
      "            'in 2018. Canada became the first industrialized country in the '\n",
      "            'world to green-light recreational marijuana, and a handful of '\n",
      "            'U.S. states legalized cannabis in some capacity. In other words, '\n",
      "            'the p… [+8176 chars]',\n",
      " 'description': 'These pot stocks are likely to create all the buzz in the new '\n",
      "                'year.',\n",
      " 'publishedAt': datetime.datetime(2018, 12, 31, 13, 21),\n",
      " 'source_id': 'the-motely-fool',\n",
      " 'summarization': 'Although the legal cannabis market is still exceptionally '\n",
      "                  'young and unproven, here - in no particular order - are 12 '\n",
      "                  'pot-growing stocks you should be watching in 2019. The '\n",
      "                  'company currently has 4.3 million square feet of licensed '\n",
      "                  'production capacity, and anticipates having all 5.6 million '\n",
      "                  'square feet licensed by the end of 2019. Expect 2019 to be '\n",
      "                  'the year that Aurora finds a beverage, tobacco, or '\n",
      "                  \"pharmaceutical partner, and don't be surprised if the \"\n",
      "                  \"company's acquisition binge continues. What we do know is \"\n",
      "                  'that if management meets its production guidance, Aphria '\n",
      "                  'will slot in as the third-largest grower by annual yield at '\n",
      "                  '255,000 kilograms. Tilray has close to 3 million square '\n",
      "                  'feet in growing capacity that it could develop, which makes '\n",
      "                  'it a wild card in terms of peak production. The company '\n",
      "                  'anticipates completing the final of three stages of its '\n",
      "                  'phase 4 expansion at the Moncton, New Brunswick, facility '\n",
      "                  'by October 2019. Despite only 342,000 square feet of '\n",
      "                  'growing space, Supreme Cannabis has visions of generating '\n",
      "                  '50,000 kilograms of weed per year.',\n",
      " 'title': '12 Marijuana Growing Stocks You Need to Know for 2019',\n",
      " 'url': 'https://www.fool.com/investing/2018/12/31/12-marijuana-growing-stocks-you-need-to-know-for-2.aspx',\n",
      " 'urlToImage': 'https://g.foolcdn.com/image/?url=https%3A%2F%2Fg.foolcdn.com%2Feditorial%2Fimages%2F505294%2Fcannabis-jars-marijuana-pot-weed-canada-legal-getty.jpg&h=630&w=1200&op=resize'}\n"
     ]
    }
   ],
   "source": [
    "pprint(row)"
   ]
  },
  {
   "cell_type": "code",
   "execution_count": 5,
   "metadata": {},
   "outputs": [
    {
     "name": "stderr",
     "output_type": "stream",
     "text": [
      "C:\\ProgramData\\Anaconda3\\lib\\site-packages\\ipykernel_launcher.py:1: DeprecationWarning: count is deprecated. Use Collection.count_documents instead.\n",
      "  \"\"\"Entry point for launching an IPython kernel.\n"
     ]
    },
    {
     "data": {
      "text/plain": [
       "106904"
      ]
     },
     "execution_count": 5,
     "metadata": {},
     "output_type": "execute_result"
    }
   ],
   "source": [
    "articles.find().count()"
   ]
  },
  {
   "cell_type": "markdown",
   "metadata": {},
   "source": [
    "<h3>Extract summarisation column from article table</h3>"
   ]
  },
  {
   "cell_type": "code",
   "execution_count": 69,
   "metadata": {},
   "outputs": [],
   "source": [
    "myresult = articles.find().limit(10000)\n",
    "dataset=[]\n",
    "for x in myresult:\n",
    "    try:\n",
    "        dataset.append(x[\"summarization\"])\n",
    "    except Exception as e:\n",
    "        print(e)"
   ]
  },
  {
   "cell_type": "markdown",
   "metadata": {},
   "source": [
    "<h3>Dataset Ready</h3>"
   ]
  },
  {
   "cell_type": "code",
   "execution_count": 70,
   "metadata": {},
   "outputs": [],
   "source": [
    "no_features=5000\n",
    "no_topics = 3\n",
    "no_top_words = 50"
   ]
  },
  {
   "cell_type": "code",
   "execution_count": 71,
   "metadata": {},
   "outputs": [
    {
     "data": {
      "text/plain": [
       "\"Although the legal cannabis market is still exceptionally young and unproven, here - in no particular order - are 12 pot-growing stocks you should be watching in 2019. The company currently has 4.3 million square feet of licensed production capacity, and anticipates having all 5.6 million square feet licensed by the end of 2019. Expect 2019 to be the year that Aurora finds a beverage, tobacco, or pharmaceutical partner, and don't be surprised if the company's acquisition binge continues. What we do know is that if management meets its production guidance, Aphria will slot in as the third-largest grower by annual yield at 255,000 kilograms. Tilray has close to 3 million square feet in growing capacity that it could develop, which makes it a wild card in terms of peak production. The company anticipates completing the final of three stages of its phase 4 expansion at the Moncton, New Brunswick, facility by October 2019. Despite only 342,000 square feet of growing space, Supreme Cannabis has visions of generating 50,000 kilograms of weed per year.\""
      ]
     },
     "execution_count": 71,
     "metadata": {},
     "output_type": "execute_result"
    }
   ],
   "source": [
    "dataset[0]"
   ]
  },
  {
   "cell_type": "markdown",
   "metadata": {},
   "source": [
    "<h1>Create the Document-Word matrix</h1>"
   ]
  },
  {
   "cell_type": "code",
   "execution_count": 100,
   "metadata": {},
   "outputs": [],
   "source": [
    "tfidf_vectorizer = TfidfVectorizer(max_df=0.95, min_df=2,stop_words='english',lowercase=True,\n",
    "                        strip_accents='ascii',analyzer = 'word',token_pattern='[a-zA-Z0-9]{3,}')\n",
    "tfidf = tfidf_vectorizer.fit_transform(dataset)"
   ]
  },
  {
   "cell_type": "code",
   "execution_count": 101,
   "metadata": {},
   "outputs": [],
   "source": [
    "feature_names = tfidf_vectorizer.get_feature_names()"
   ]
  },
  {
   "cell_type": "code",
   "execution_count": null,
   "metadata": {},
   "outputs": [],
   "source": [
    "feature_names"
   ]
  },
  {
   "cell_type": "code",
   "execution_count": 103,
   "metadata": {},
   "outputs": [],
   "source": [
    "def display_topics(model, feature_names, no_top_words):\n",
    "    for topic_idx, topic in enumerate(model.components_):\n",
    "        print(\"Topic %d:\" % (topic_idx))\n",
    "        print(\" \".join([feature_names[i]\n",
    "                        for i in topic.argsort()[:-no_top_words - 1:-1]]))"
   ]
  },
  {
   "cell_type": "markdown",
   "metadata": {},
   "source": [
    "<h1>Build LDA model with sklearn</h1>"
   ]
  },
  {
   "cell_type": "code",
   "execution_count": 104,
   "metadata": {},
   "outputs": [],
   "source": [
    "lda =  LatentDirichletAllocation(n_components=no_topics, max_iter=5, learning_method='online', learning_offset=50.,random_state=0).fit(tfidf)"
   ]
  },
  {
   "cell_type": "code",
   "execution_count": 106,
   "metadata": {},
   "outputs": [
    {
     "name": "stdout",
     "output_type": "stream",
     "text": [
      "Topic 0:\n",
      "cannabis marijuana medical said state hemp city use new patients states people federal law business legal recreational industry drug california health dispensaries products government cbd legalization canada company year businesses market like research police public dispensary laws county time sales license tax program says department percent pot oregon oil medicinal\n",
      "Topic 1:\n",
      "les mydx que hausman quatre vins yazbeck bedard analyzer pour avec oprah est ete enrico qui aerodx spannabis heins handheld une loi vthc jaremowich leur sin este sur embargo fin sensors cynthea flavours surete toujours aerien controle canadienne sujet maintenant creme addison par reneged futura middlebury bouchard hay psoe sparkling\n",
      "Topic 2:\n",
      "420 news intel industry marijuana outlet technological impact developments cover world date information stories advances cannabis pertinent constantly rallies evolving reliable abreast inbox signing ensuring delivered globe kept legalization changing directly day daily offer endeavor owners develop carries internationally regarding constant regionally nationally benefits coverage need medicinal source development understand\n"
     ]
    }
   ],
   "source": [
    "display_topics(lda, feature_names, no_top_words)"
   ]
  },
  {
   "cell_type": "code",
   "execution_count": 107,
   "metadata": {},
   "outputs": [],
   "source": [
    "import pandas as pd\n",
    "import numpy as np"
   ]
  },
  {
   "cell_type": "markdown",
   "metadata": {},
   "source": [
    "<h1>Show Dominant topic of each document</h1>"
   ]
  },
  {
   "cell_type": "code",
   "execution_count": 108,
   "metadata": {},
   "outputs": [],
   "source": [
    "best_lda_model=lda\n",
    "data_vectorized=tfidf\n",
    "# Create Document — Topic Matrix\n",
    "lda_output = best_lda_model.transform(data_vectorized)\n",
    "# column names\n",
    "topicnames = [\"Topic\" + str(i) for i in range(best_lda_model.n_components)]\n",
    "# index names\n",
    "docnames = [\"Doc\" + str(i) for i in range(len(dataset))]\n",
    "# Make the pandas dataframe\n",
    "df_document_topic = pd.DataFrame(np.round(lda_output, 2), columns=topicnames, index=docnames)\n",
    "# Get dominant topic for each document\n",
    "dominant_topic = np.argmax(df_document_topic.values, axis=1)\n",
    "df_document_topic['dominant_topic'] = dominant_topic"
   ]
  },
  {
   "cell_type": "markdown",
   "metadata": {},
   "source": [
    "<h3>List first 10 documents their dominent topic is 2</h3>"
   ]
  },
  {
   "cell_type": "code",
   "execution_count": 111,
   "metadata": {},
   "outputs": [
    {
     "data": {
      "text/html": [
       "<div>\n",
       "<style scoped>\n",
       "    .dataframe tbody tr th:only-of-type {\n",
       "        vertical-align: middle;\n",
       "    }\n",
       "\n",
       "    .dataframe tbody tr th {\n",
       "        vertical-align: top;\n",
       "    }\n",
       "\n",
       "    .dataframe thead th {\n",
       "        text-align: right;\n",
       "    }\n",
       "</style>\n",
       "<table border=\"1\" class=\"dataframe\">\n",
       "  <thead>\n",
       "    <tr style=\"text-align: right;\">\n",
       "      <th></th>\n",
       "      <th>Topic0</th>\n",
       "      <th>Topic1</th>\n",
       "      <th>Topic2</th>\n",
       "      <th>dominant_topic</th>\n",
       "    </tr>\n",
       "  </thead>\n",
       "  <tbody>\n",
       "    <tr>\n",
       "      <td>Doc106</td>\n",
       "      <td>0.07</td>\n",
       "      <td>0.05</td>\n",
       "      <td>0.89</td>\n",
       "      <td>2</td>\n",
       "    </tr>\n",
       "    <tr>\n",
       "      <td>Doc134</td>\n",
       "      <td>0.06</td>\n",
       "      <td>0.05</td>\n",
       "      <td>0.89</td>\n",
       "      <td>2</td>\n",
       "    </tr>\n",
       "    <tr>\n",
       "      <td>Doc191</td>\n",
       "      <td>0.06</td>\n",
       "      <td>0.05</td>\n",
       "      <td>0.89</td>\n",
       "      <td>2</td>\n",
       "    </tr>\n",
       "    <tr>\n",
       "      <td>Doc203</td>\n",
       "      <td>0.07</td>\n",
       "      <td>0.05</td>\n",
       "      <td>0.88</td>\n",
       "      <td>2</td>\n",
       "    </tr>\n",
       "    <tr>\n",
       "      <td>Doc214</td>\n",
       "      <td>0.06</td>\n",
       "      <td>0.05</td>\n",
       "      <td>0.89</td>\n",
       "      <td>2</td>\n",
       "    </tr>\n",
       "    <tr>\n",
       "      <td>Doc366</td>\n",
       "      <td>0.07</td>\n",
       "      <td>0.05</td>\n",
       "      <td>0.88</td>\n",
       "      <td>2</td>\n",
       "    </tr>\n",
       "    <tr>\n",
       "      <td>Doc378</td>\n",
       "      <td>0.07</td>\n",
       "      <td>0.05</td>\n",
       "      <td>0.88</td>\n",
       "      <td>2</td>\n",
       "    </tr>\n",
       "    <tr>\n",
       "      <td>Doc598</td>\n",
       "      <td>0.07</td>\n",
       "      <td>0.05</td>\n",
       "      <td>0.89</td>\n",
       "      <td>2</td>\n",
       "    </tr>\n",
       "    <tr>\n",
       "      <td>Doc608</td>\n",
       "      <td>0.07</td>\n",
       "      <td>0.05</td>\n",
       "      <td>0.89</td>\n",
       "      <td>2</td>\n",
       "    </tr>\n",
       "    <tr>\n",
       "      <td>Doc622</td>\n",
       "      <td>0.06</td>\n",
       "      <td>0.05</td>\n",
       "      <td>0.89</td>\n",
       "      <td>2</td>\n",
       "    </tr>\n",
       "  </tbody>\n",
       "</table>\n",
       "</div>"
      ],
      "text/plain": [
       "        Topic0  Topic1  Topic2  dominant_topic\n",
       "Doc106    0.07    0.05    0.89               2\n",
       "Doc134    0.06    0.05    0.89               2\n",
       "Doc191    0.06    0.05    0.89               2\n",
       "Doc203    0.07    0.05    0.88               2\n",
       "Doc214    0.06    0.05    0.89               2\n",
       "Doc366    0.07    0.05    0.88               2\n",
       "Doc378    0.07    0.05    0.88               2\n",
       "Doc598    0.07    0.05    0.89               2\n",
       "Doc608    0.07    0.05    0.89               2\n",
       "Doc622    0.06    0.05    0.89               2"
      ]
     },
     "execution_count": 111,
     "metadata": {},
     "output_type": "execute_result"
    }
   ],
   "source": [
    "df_document_topic[df_document_topic[\"dominant_topic\"]==2].head(10)"
   ]
  },
  {
   "cell_type": "markdown",
   "metadata": {},
   "source": [
    "<h3>List first 10 documents their dominent topic is 1</h3>"
   ]
  },
  {
   "cell_type": "code",
   "execution_count": 114,
   "metadata": {},
   "outputs": [
    {
     "data": {
      "text/html": [
       "<div>\n",
       "<style scoped>\n",
       "    .dataframe tbody tr th:only-of-type {\n",
       "        vertical-align: middle;\n",
       "    }\n",
       "\n",
       "    .dataframe tbody tr th {\n",
       "        vertical-align: top;\n",
       "    }\n",
       "\n",
       "    .dataframe thead th {\n",
       "        text-align: right;\n",
       "    }\n",
       "</style>\n",
       "<table border=\"1\" class=\"dataframe\">\n",
       "  <thead>\n",
       "    <tr style=\"text-align: right;\">\n",
       "      <th></th>\n",
       "      <th>Topic0</th>\n",
       "      <th>Topic1</th>\n",
       "      <th>Topic2</th>\n",
       "      <th>dominant_topic</th>\n",
       "    </tr>\n",
       "  </thead>\n",
       "  <tbody>\n",
       "    <tr>\n",
       "      <td>Doc7619</td>\n",
       "      <td>0.44</td>\n",
       "      <td>0.49</td>\n",
       "      <td>0.06</td>\n",
       "      <td>1</td>\n",
       "    </tr>\n",
       "    <tr>\n",
       "      <td>Doc7671</td>\n",
       "      <td>0.18</td>\n",
       "      <td>0.76</td>\n",
       "      <td>0.06</td>\n",
       "      <td>1</td>\n",
       "    </tr>\n",
       "    <tr>\n",
       "      <td>Doc7681</td>\n",
       "      <td>0.21</td>\n",
       "      <td>0.73</td>\n",
       "      <td>0.06</td>\n",
       "      <td>1</td>\n",
       "    </tr>\n",
       "    <tr>\n",
       "      <td>Doc9931</td>\n",
       "      <td>0.26</td>\n",
       "      <td>0.66</td>\n",
       "      <td>0.08</td>\n",
       "      <td>1</td>\n",
       "    </tr>\n",
       "  </tbody>\n",
       "</table>\n",
       "</div>"
      ],
      "text/plain": [
       "         Topic0  Topic1  Topic2  dominant_topic\n",
       "Doc7619    0.44    0.49    0.06               1\n",
       "Doc7671    0.18    0.76    0.06               1\n",
       "Doc7681    0.21    0.73    0.06               1\n",
       "Doc9931    0.26    0.66    0.08               1"
      ]
     },
     "execution_count": 114,
     "metadata": {},
     "output_type": "execute_result"
    }
   ],
   "source": [
    "df_document_topic[df_document_topic[\"dominant_topic\"]==1].head(10)"
   ]
  },
  {
   "cell_type": "markdown",
   "metadata": {},
   "source": [
    "<h3>List first 10 documents their dominent topic is 0</h3>"
   ]
  },
  {
   "cell_type": "code",
   "execution_count": 115,
   "metadata": {},
   "outputs": [
    {
     "data": {
      "text/html": [
       "<div>\n",
       "<style scoped>\n",
       "    .dataframe tbody tr th:only-of-type {\n",
       "        vertical-align: middle;\n",
       "    }\n",
       "\n",
       "    .dataframe tbody tr th {\n",
       "        vertical-align: top;\n",
       "    }\n",
       "\n",
       "    .dataframe thead th {\n",
       "        text-align: right;\n",
       "    }\n",
       "</style>\n",
       "<table border=\"1\" class=\"dataframe\">\n",
       "  <thead>\n",
       "    <tr style=\"text-align: right;\">\n",
       "      <th></th>\n",
       "      <th>Topic0</th>\n",
       "      <th>Topic1</th>\n",
       "      <th>Topic2</th>\n",
       "      <th>dominant_topic</th>\n",
       "    </tr>\n",
       "  </thead>\n",
       "  <tbody>\n",
       "    <tr>\n",
       "      <td>Doc0</td>\n",
       "      <td>0.92</td>\n",
       "      <td>0.04</td>\n",
       "      <td>0.04</td>\n",
       "      <td>0</td>\n",
       "    </tr>\n",
       "    <tr>\n",
       "      <td>Doc1</td>\n",
       "      <td>0.94</td>\n",
       "      <td>0.03</td>\n",
       "      <td>0.03</td>\n",
       "      <td>0</td>\n",
       "    </tr>\n",
       "    <tr>\n",
       "      <td>Doc2</td>\n",
       "      <td>0.92</td>\n",
       "      <td>0.04</td>\n",
       "      <td>0.04</td>\n",
       "      <td>0</td>\n",
       "    </tr>\n",
       "    <tr>\n",
       "      <td>Doc3</td>\n",
       "      <td>0.33</td>\n",
       "      <td>0.33</td>\n",
       "      <td>0.33</td>\n",
       "      <td>0</td>\n",
       "    </tr>\n",
       "    <tr>\n",
       "      <td>Doc4</td>\n",
       "      <td>0.93</td>\n",
       "      <td>0.03</td>\n",
       "      <td>0.03</td>\n",
       "      <td>0</td>\n",
       "    </tr>\n",
       "    <tr>\n",
       "      <td>Doc5</td>\n",
       "      <td>0.86</td>\n",
       "      <td>0.07</td>\n",
       "      <td>0.07</td>\n",
       "      <td>0</td>\n",
       "    </tr>\n",
       "    <tr>\n",
       "      <td>Doc6</td>\n",
       "      <td>0.94</td>\n",
       "      <td>0.03</td>\n",
       "      <td>0.03</td>\n",
       "      <td>0</td>\n",
       "    </tr>\n",
       "    <tr>\n",
       "      <td>Doc7</td>\n",
       "      <td>0.93</td>\n",
       "      <td>0.03</td>\n",
       "      <td>0.03</td>\n",
       "      <td>0</td>\n",
       "    </tr>\n",
       "    <tr>\n",
       "      <td>Doc8</td>\n",
       "      <td>0.92</td>\n",
       "      <td>0.04</td>\n",
       "      <td>0.04</td>\n",
       "      <td>0</td>\n",
       "    </tr>\n",
       "    <tr>\n",
       "      <td>Doc9</td>\n",
       "      <td>0.91</td>\n",
       "      <td>0.05</td>\n",
       "      <td>0.05</td>\n",
       "      <td>0</td>\n",
       "    </tr>\n",
       "  </tbody>\n",
       "</table>\n",
       "</div>"
      ],
      "text/plain": [
       "      Topic0  Topic1  Topic2  dominant_topic\n",
       "Doc0    0.92    0.04    0.04               0\n",
       "Doc1    0.94    0.03    0.03               0\n",
       "Doc2    0.92    0.04    0.04               0\n",
       "Doc3    0.33    0.33    0.33               0\n",
       "Doc4    0.93    0.03    0.03               0\n",
       "Doc5    0.86    0.07    0.07               0\n",
       "Doc6    0.94    0.03    0.03               0\n",
       "Doc7    0.93    0.03    0.03               0\n",
       "Doc8    0.92    0.04    0.04               0\n",
       "Doc9    0.91    0.05    0.05               0"
      ]
     },
     "execution_count": 115,
     "metadata": {},
     "output_type": "execute_result"
    }
   ],
   "source": [
    "df_document_topic[df_document_topic[\"dominant_topic\"]==0].head(10)"
   ]
  },
  {
   "cell_type": "code",
   "execution_count": 116,
   "metadata": {},
   "outputs": [],
   "source": [
    "# Show top n keywords for each topic\n",
    "def show_topics(vectorizer, lda_model, n_words=10):\n",
    "    keywords = np.array(vectorizer.get_feature_names())\n",
    "    topic_keywords = []\n",
    "    for topic_weights in lda_model.components_:\n",
    "        top_keyword_locs = (-topic_weights).argsort()[:n_words]\n",
    "        topic_keywords.append(keywords.take(top_keyword_locs))\n",
    "    return topic_keywords"
   ]
  },
  {
   "cell_type": "markdown",
   "metadata": {},
   "source": [
    "<h3>Top 15 words of each topic</h3>"
   ]
  },
  {
   "cell_type": "code",
   "execution_count": 117,
   "metadata": {},
   "outputs": [
    {
     "data": {
      "text/html": [
       "<div>\n",
       "<style scoped>\n",
       "    .dataframe tbody tr th:only-of-type {\n",
       "        vertical-align: middle;\n",
       "    }\n",
       "\n",
       "    .dataframe tbody tr th {\n",
       "        vertical-align: top;\n",
       "    }\n",
       "\n",
       "    .dataframe thead th {\n",
       "        text-align: right;\n",
       "    }\n",
       "</style>\n",
       "<table border=\"1\" class=\"dataframe\">\n",
       "  <thead>\n",
       "    <tr style=\"text-align: right;\">\n",
       "      <th></th>\n",
       "      <th>Word 0</th>\n",
       "      <th>Word 1</th>\n",
       "      <th>Word 2</th>\n",
       "      <th>Word 3</th>\n",
       "      <th>Word 4</th>\n",
       "      <th>Word 5</th>\n",
       "      <th>Word 6</th>\n",
       "      <th>Word 7</th>\n",
       "      <th>Word 8</th>\n",
       "      <th>Word 9</th>\n",
       "      <th>Word 10</th>\n",
       "      <th>Word 11</th>\n",
       "      <th>Word 12</th>\n",
       "      <th>Word 13</th>\n",
       "      <th>Word 14</th>\n",
       "    </tr>\n",
       "  </thead>\n",
       "  <tbody>\n",
       "    <tr>\n",
       "      <td>Topic 0</td>\n",
       "      <td>cannabis</td>\n",
       "      <td>marijuana</td>\n",
       "      <td>medical</td>\n",
       "      <td>said</td>\n",
       "      <td>state</td>\n",
       "      <td>hemp</td>\n",
       "      <td>city</td>\n",
       "      <td>use</td>\n",
       "      <td>new</td>\n",
       "      <td>patients</td>\n",
       "      <td>states</td>\n",
       "      <td>people</td>\n",
       "      <td>federal</td>\n",
       "      <td>law</td>\n",
       "      <td>business</td>\n",
       "    </tr>\n",
       "    <tr>\n",
       "      <td>Topic 1</td>\n",
       "      <td>les</td>\n",
       "      <td>mydx</td>\n",
       "      <td>que</td>\n",
       "      <td>hausman</td>\n",
       "      <td>quatre</td>\n",
       "      <td>vins</td>\n",
       "      <td>yazbeck</td>\n",
       "      <td>bedard</td>\n",
       "      <td>analyzer</td>\n",
       "      <td>pour</td>\n",
       "      <td>avec</td>\n",
       "      <td>oprah</td>\n",
       "      <td>est</td>\n",
       "      <td>ete</td>\n",
       "      <td>enrico</td>\n",
       "    </tr>\n",
       "    <tr>\n",
       "      <td>Topic 2</td>\n",
       "      <td>420</td>\n",
       "      <td>news</td>\n",
       "      <td>intel</td>\n",
       "      <td>industry</td>\n",
       "      <td>marijuana</td>\n",
       "      <td>outlet</td>\n",
       "      <td>technological</td>\n",
       "      <td>impact</td>\n",
       "      <td>developments</td>\n",
       "      <td>cover</td>\n",
       "      <td>world</td>\n",
       "      <td>date</td>\n",
       "      <td>information</td>\n",
       "      <td>stories</td>\n",
       "      <td>advances</td>\n",
       "    </tr>\n",
       "  </tbody>\n",
       "</table>\n",
       "</div>"
      ],
      "text/plain": [
       "           Word 0     Word 1   Word 2    Word 3     Word 4  Word 5  \\\n",
       "Topic 0  cannabis  marijuana  medical      said      state    hemp   \n",
       "Topic 1       les       mydx      que   hausman     quatre    vins   \n",
       "Topic 2       420       news    intel  industry  marijuana  outlet   \n",
       "\n",
       "                Word 6  Word 7        Word 8    Word 9 Word 10 Word 11  \\\n",
       "Topic 0           city     use           new  patients  states  people   \n",
       "Topic 1        yazbeck  bedard      analyzer      pour    avec   oprah   \n",
       "Topic 2  technological  impact  developments     cover   world    date   \n",
       "\n",
       "             Word 12  Word 13   Word 14  \n",
       "Topic 0      federal      law  business  \n",
       "Topic 1          est      ete    enrico  \n",
       "Topic 2  information  stories  advances  "
      ]
     },
     "execution_count": 117,
     "metadata": {},
     "output_type": "execute_result"
    }
   ],
   "source": [
    "topic_keywords = show_topics(tfidf_vectorizer, lda, 15)\n",
    "# Topic - Keywords Dataframe\n",
    "df_topic_keywords = pd.DataFrame(topic_keywords)\n",
    "df_topic_keywords.columns = ['Word '+str(i) for i in range(df_topic_keywords.shape[1])]\n",
    "df_topic_keywords.index = ['Topic '+str(i) for i in range(df_topic_keywords.shape[0])]\n",
    "df_topic_keywords"
   ]
  },
  {
   "cell_type": "markdown",
   "metadata": {},
   "source": [
    "<h3>Okay lets assign some labels for each topic based on words</h3>"
   ]
  },
  {
   "cell_type": "code",
   "execution_count": 118,
   "metadata": {},
   "outputs": [
    {
     "data": {
      "text/html": [
       "<div>\n",
       "<style scoped>\n",
       "    .dataframe tbody tr th:only-of-type {\n",
       "        vertical-align: middle;\n",
       "    }\n",
       "\n",
       "    .dataframe tbody tr th {\n",
       "        vertical-align: top;\n",
       "    }\n",
       "\n",
       "    .dataframe thead th {\n",
       "        text-align: right;\n",
       "    }\n",
       "</style>\n",
       "<table border=\"1\" class=\"dataframe\">\n",
       "  <thead>\n",
       "    <tr style=\"text-align: right;\">\n",
       "      <th></th>\n",
       "      <th>Word 0</th>\n",
       "      <th>Word 1</th>\n",
       "      <th>Word 2</th>\n",
       "      <th>Word 3</th>\n",
       "      <th>Word 4</th>\n",
       "      <th>Word 5</th>\n",
       "      <th>Word 6</th>\n",
       "      <th>Word 7</th>\n",
       "      <th>Word 8</th>\n",
       "      <th>Word 9</th>\n",
       "      <th>Word 10</th>\n",
       "      <th>Word 11</th>\n",
       "      <th>Word 12</th>\n",
       "      <th>Word 13</th>\n",
       "      <th>Word 14</th>\n",
       "      <th>Category</th>\n",
       "    </tr>\n",
       "  </thead>\n",
       "  <tbody>\n",
       "    <tr>\n",
       "      <td>Topic 0</td>\n",
       "      <td>cannabis</td>\n",
       "      <td>marijuana</td>\n",
       "      <td>medical</td>\n",
       "      <td>said</td>\n",
       "      <td>state</td>\n",
       "      <td>hemp</td>\n",
       "      <td>city</td>\n",
       "      <td>use</td>\n",
       "      <td>new</td>\n",
       "      <td>patients</td>\n",
       "      <td>states</td>\n",
       "      <td>people</td>\n",
       "      <td>federal</td>\n",
       "      <td>law</td>\n",
       "      <td>business</td>\n",
       "      <td>Drug Use</td>\n",
       "    </tr>\n",
       "    <tr>\n",
       "      <td>Topic 1</td>\n",
       "      <td>les</td>\n",
       "      <td>mydx</td>\n",
       "      <td>que</td>\n",
       "      <td>hausman</td>\n",
       "      <td>quatre</td>\n",
       "      <td>vins</td>\n",
       "      <td>yazbeck</td>\n",
       "      <td>bedard</td>\n",
       "      <td>analyzer</td>\n",
       "      <td>pour</td>\n",
       "      <td>avec</td>\n",
       "      <td>oprah</td>\n",
       "      <td>est</td>\n",
       "      <td>ete</td>\n",
       "      <td>enrico</td>\n",
       "      <td>Research</td>\n",
       "    </tr>\n",
       "    <tr>\n",
       "      <td>Topic 2</td>\n",
       "      <td>420</td>\n",
       "      <td>news</td>\n",
       "      <td>intel</td>\n",
       "      <td>industry</td>\n",
       "      <td>marijuana</td>\n",
       "      <td>outlet</td>\n",
       "      <td>technological</td>\n",
       "      <td>impact</td>\n",
       "      <td>developments</td>\n",
       "      <td>cover</td>\n",
       "      <td>world</td>\n",
       "      <td>date</td>\n",
       "      <td>information</td>\n",
       "      <td>stories</td>\n",
       "      <td>advances</td>\n",
       "      <td>Technological Developments</td>\n",
       "    </tr>\n",
       "  </tbody>\n",
       "</table>\n",
       "</div>"
      ],
      "text/plain": [
       "           Word 0     Word 1   Word 2    Word 3     Word 4  Word 5  \\\n",
       "Topic 0  cannabis  marijuana  medical      said      state    hemp   \n",
       "Topic 1       les       mydx      que   hausman     quatre    vins   \n",
       "Topic 2       420       news    intel  industry  marijuana  outlet   \n",
       "\n",
       "                Word 6  Word 7        Word 8    Word 9 Word 10 Word 11  \\\n",
       "Topic 0           city     use           new  patients  states  people   \n",
       "Topic 1        yazbeck  bedard      analyzer      pour    avec   oprah   \n",
       "Topic 2  technological  impact  developments     cover   world    date   \n",
       "\n",
       "             Word 12  Word 13   Word 14                    Category  \n",
       "Topic 0      federal      law  business                    Drug Use  \n",
       "Topic 1          est      ete    enrico                    Research  \n",
       "Topic 2  information  stories  advances  Technological Developments  "
      ]
     },
     "execution_count": 118,
     "metadata": {},
     "output_type": "execute_result"
    }
   ],
   "source": [
    "Topics = [\"Drug Use\",\"Research\",\"Technological Developments\"]\n",
    "df_topic_keywords[\"Category\"]=Topics\n",
    "df_topic_keywords"
   ]
  },
  {
   "cell_type": "code",
   "execution_count": null,
   "metadata": {},
   "outputs": [],
   "source": []
  }
 ],
 "metadata": {
  "kernelspec": {
   "display_name": "Python 3",
   "language": "python",
   "name": "python3"
  },
  "language_info": {
   "codemirror_mode": {
    "name": "ipython",
    "version": 3
   },
   "file_extension": ".py",
   "mimetype": "text/x-python",
   "name": "python",
   "nbconvert_exporter": "python",
   "pygments_lexer": "ipython3",
   "version": "3.8.8"
  }
 },
 "nbformat": 4,
 "nbformat_minor": 4
}
